{
 "cells": [
  {
   "cell_type": "markdown",
   "metadata": {},
   "source": [
    "## Import librarys"
   ]
  },
  {
   "cell_type": "code",
   "execution_count": 1,
   "metadata": {},
   "outputs": [],
   "source": [
    "import numpy  as np\n",
    "import pandas as pd\n",
    "import pyprind\n",
    "import random\n",
    "import re\n",
    "from nltk.corpus import stopwords\n",
    "from nltk.stem.porter import PorterStemmer"
   ]
  },
  {
   "cell_type": "markdown",
   "metadata": {},
   "source": [
    "## Load word2vect\n",
    "\n",
    "Se hace uso del modelo pre-entranado de Google: word2vect (obtenido de https://drive.google.com/file/d/0B7XkCwpI5KDYNlNUTTlSS21pQmM/edit).\n",
    "Debido a que el volcabulario es muy grande, fueron seleccionadas las palabras que aparecen en nuestros datos de entrenamiento (lista de comentarios sobre películas). El resultado de la selección de palabras fue almacenado en 'words.npy'."
   ]
  },
  {
   "cell_type": "code",
   "execution_count": 2,
   "metadata": {},
   "outputs": [],
   "source": [
    "words = np.load('words.npy').item()\n",
    "Wvals = np.array([words[p] for p in words])"
   ]
  },
  {
   "cell_type": "markdown",
   "metadata": {},
   "source": [
    "## Import Data"
   ]
  },
  {
   "cell_type": "code",
   "execution_count": 3,
   "metadata": {},
   "outputs": [],
   "source": [
    "stop = stopwords.words('english')\n",
    "porter = PorterStemmer()\n",
    "\n",
    "def stream_docs(path):\n",
    "    with open(path, 'r') as csv:\n",
    "        next(csv) # skip header\n",
    "        for line in csv:\n",
    "            text, label = line[:-3], int(line[-2])\n",
    "            yield text, label   \n",
    "            \n",
    "def tokenizer(text):\n",
    "    text = re.sub('<[^>]*>', '', text)\n",
    "    emoticons = re.findall('(?::|;|=)(?:-)?(?:\\)|\\(|D|P)', text.lower())\n",
    "    text = re.sub('[\\W]+', ' ', text.lower()) + ' '.join(emoticons).replace('-', '')\n",
    "    text = [w for w in text.split() if w not in stop]\n",
    "    tokenized = [porter.stem(w) for w in text]\n",
    "    return text\n",
    "\n",
    "def get_minibatch(doc_stream, size):\n",
    "    docs, y = [], []\n",
    "    for _ in range(size):\n",
    "        text, label = next(doc_stream)\n",
    "        docs.append(text)\n",
    "        y.append(label)\n",
    "    return docs, y"
   ]
  },
  {
   "cell_type": "markdown",
   "metadata": {},
   "source": [
    "## Preprocessing"
   ]
  },
  {
   "cell_type": "code",
   "execution_count": 4,
   "metadata": {},
   "outputs": [],
   "source": [
    "def preprocessing(text):\n",
    "    import re\n",
    "    REPLACE_NO_SPACE = re.compile(\"(\\.)|(\\;)|(\\:)|(\\')|(\\?)|(\\,)|(\\\")|(\\()|(\\))|(\\[)|(\\])|(\\n)\")\n",
    "    REPLACE_WITH_SPACE = re.compile(\"(<br\\s*/><br\\s*/>)|(\\-)|(\\/)\")\n",
    "    text = REPLACE_NO_SPACE.sub('', text.lower())\n",
    "    text = REPLACE_WITH_SPACE.sub(' ', text)\n",
    "    return text"
   ]
  },
  {
   "cell_type": "markdown",
   "metadata": {},
   "source": [
    "## Data Analysis"
   ]
  },
  {
   "cell_type": "code",
   "execution_count": 5,
   "metadata": {},
   "outputs": [],
   "source": [
    "doc_stream = stream_docs(path='shuffled_movie_data.csv')\n",
    "x_, y_ = get_minibatch(doc_stream, size=50000)\n",
    "count_words = [len(preprocessing(w).split())  for w in x_]"
   ]
  },
  {
   "cell_type": "code",
   "execution_count": 18,
   "metadata": {},
   "outputs": [
    {
     "data": {
      "text/plain": [
       "<matplotlib.axes._subplots.AxesSubplot at 0x7f6faacd0c18>"
      ]
     },
     "execution_count": 18,
     "metadata": {},
     "output_type": "execute_result"
    },
    {
     "data": {
      "image/png": "[encoded data removed]",
      "text/plain": [
       "<Figure size 720x288 with 1 Axes>"
      ]
     },
     "metadata": {},
     "output_type": "display_data"
    }
   ],
   "source": [
    "import seaborn as sns\n",
    "sns.set(rc={'figure.figsize':(10,4)})\n",
    "sns.distplot(count_words,bins=100)"
   ]
  },
  {
   "cell_type": "code",
   "execution_count": 19,
   "metadata": {},
   "outputs": [
    {
     "name": "stdout",
     "output_type": "stream",
     "text": [
      "Maxima cantidad de palabras consideras en la red: 318.0\n"
     ]
    }
   ],
   "source": [
    "threshold_words = np.percentile(count_words,80)\n",
    "print(\"Maxima cantidad de palabras consideras en la red:\", threshold_words)"
   ]
  },
  {
   "cell_type": "markdown",
   "metadata": {},
   "source": [
    "## Features extraction"
   ]
  },
  {
   "cell_type": "code",
   "execution_count": 20,
   "metadata": {},
   "outputs": [],
   "source": [
    "def featuresExtraction(text):\n",
    "    review = list()\n",
    "    count = 0\n",
    "    \n",
    "    for w in text.split():\n",
    "        if w in words:\n",
    "            review.append( words[w] )\n",
    "            count += 1\n",
    "        if not count<threshold_words:\n",
    "            break\n",
    "            \n",
    "    while count<threshold_words:\n",
    "        review.append( np.zeros(300) )\n",
    "        count += 1\n",
    "    \n",
    "    # Get feature\n",
    "    review = np.array(review).T\n",
    "    \n",
    "    return review.flatten() "
   ]
  },
  {
   "cell_type": "markdown",
   "metadata": {},
   "source": [
    "## Neural network"
   ]
  },
  {
   "cell_type": "markdown",
   "metadata": {},
   "source": [
    "### No-Lineal functions"
   ]
  },
  {
   "cell_type": "code",
   "execution_count": 21,
   "metadata": {},
   "outputs": [],
   "source": [
    "def sigmoid(z):\n",
    "    return 1/(1 + np.exp(-z))\n",
    "def sigmoid_deriv(z):\n",
    "    return np.multiply( sigmoid(z), 1 - sigmoid(z) )\n",
    "def tanh(z):\n",
    "    return np.tanh(z)\n",
    "def tanh_deriv(z):\n",
    "    tanhz = tanh(z)\n",
    "    return 1 - tanhz*tanhz\n",
    "def ReLU(z):\n",
    "    return np.multiply( (z>=0), z )\n",
    "def ReLU_deriv(z):\n",
    "    return (z>=0)\n",
    "def SELU(z):\n",
    "    neg = np.multiply( (z< 0), 1.758094*( np.exp(z) - 1 ) )\n",
    "    pos = np.multiply( (z>=0), 1.0507  *         z        )\n",
    "    return neg + pos\n",
    "def SELU_deriv(z):\n",
    "    return np.multiply( (z<0), 1.758094*np.exp(z) ) + 1.0507*(z>=0)\n",
    "def softmax(z):\n",
    "    return np.exp(z)/np.sum(np.exp(z))\n",
    "def funDeriv(fun):\n",
    "    if fun == sigmoid: return sigmoid_deriv;\n",
    "    if fun ==    tanh: return    tanh_deriv;\n",
    "    if fun ==    ReLU: return    ReLU_deriv;\n",
    "    if fun ==    SELU: return    SELU_deriv;"
   ]
  },
  {
   "cell_type": "markdown",
   "metadata": {},
   "source": [
    "### He-inicialization"
   ]
  },
  {
   "cell_type": "code",
   "execution_count": 22,
   "metadata": {},
   "outputs": [],
   "source": [
    "def initialize_he(n_input, n_output):    \n",
    "    return np.random.randn(int(n_input),n_output )*np.sqrt( 2/(n_input+n_output) )"
   ]
  },
  {
   "cell_type": "markdown",
   "metadata": {},
   "source": [
    "### Feedforward"
   ]
  },
  {
   "cell_type": "code",
   "execution_count": 23,
   "metadata": {},
   "outputs": [],
   "source": [
    "def feedforward(w, x,actFunc = sigmoid):\n",
    "    z = list()\n",
    "    layers = len(w)\n",
    "    for n in range(layers):     \n",
    "        # Activation\n",
    "        if n == 0: a = x[np.newaxis,:];\n",
    "        else     : a = actFunc(z[n-1]);\n",
    "        z.append( np.dot( a , w[n] ) )\n",
    "    return z"
   ]
  },
  {
   "cell_type": "markdown",
   "metadata": {},
   "source": [
    "### Backpropagation"
   ]
  },
  {
   "cell_type": "code",
   "execution_count": 24,
   "metadata": {},
   "outputs": [],
   "source": [
    "def layer(w,derivLoss,a_int,z,\n",
    "                learning_rate,\n",
    "                   reg_lambda,\n",
    "                      actFunc):\n",
    "    \n",
    "    # Derivada\n",
    "    actFunc_deriv = funDeriv(actFunc)\n",
    "    \n",
    "    delta = np.multiply( derivLoss , actFunc_deriv(z).T )\n",
    "    gradW = np.dot(a_int,delta.T) + reg_lambda*w\n",
    "    if reg_lambda > 0.0: gradW += reg_lambda*w;\n",
    "    \n",
    "    w = w - learning_rate*gradW\n",
    "    \n",
    "    return w,delta\n",
    "\n",
    "\n",
    "def backpropagation(w, x, y, z, \n",
    "                    learning_rate,\n",
    "                    reg_lambda = 0.00   ,\n",
    "                    hiddenFunc = sigmoid,\n",
    "                    outFunc    = sigmoid):\n",
    "    # Layers\n",
    "    layers = len(w)\n",
    "    \n",
    "    # Activation function\n",
    "    a = list()\n",
    "    a.append(   x[:,np.newaxis]   )\n",
    "    for n in range(layers): \n",
    "        a.append(hiddenFunc(z[n]).T)\n",
    "    \n",
    "    # Train layers\n",
    "    delta = 0\n",
    "    for n in reversed(range(layers)):\n",
    "        # Out/Hidden layer\n",
    "        if n == (layers-1):\n",
    "            actFun = outFunc\n",
    "            derivLoss = a[n+1]-y\n",
    "        else:\n",
    "            actFun = hiddenFunc\n",
    "            derivLoss = np.dot(w[n+1],delta)    \n",
    "        # Train\n",
    "        w[n],delta = layer(w[n],derivLoss,a[n],z[n],learning_rate,reg_lambda,actFun)\n",
    "    \n",
    "    return w"
   ]
  },
  {
   "cell_type": "markdown",
   "metadata": {},
   "source": [
    "### Prediction"
   ]
  },
  {
   "cell_type": "code",
   "execution_count": 25,
   "metadata": {},
   "outputs": [],
   "source": [
    "def predict(w, x_test,\n",
    "            hiddenFunc = sigmoid,\n",
    "            outFunc    = sigmoid):\n",
    "    \n",
    "    x = np.append([1], x_test)   # add bias\n",
    "    z = feedforward(w, x,hiddenFunc)\n",
    "    a = outFunc(z[-1])\n",
    "    \n",
    "    if outFunc == sigmoid: return int(a>0.5) ;\n",
    "    if outFunc ==    tanh: return int(a>0.0) ;\n",
    "    if outFunc ==    ReLU: return int(a>0.0) ;\n",
    "    if outFunc ==    SELU: return int(a>0.0) ;\n",
    "    else                 : return -1;"
   ]
  },
  {
   "cell_type": "markdown",
   "metadata": {},
   "source": [
    "### Train Neuronal network"
   ]
  },
  {
   "cell_type": "code",
   "execution_count": 26,
   "metadata": {},
   "outputs": [],
   "source": [
    "def trainMLP(w,learning_rate,reg_lambda,hiddenFunc,outFunc,verbose=False):\n",
    "    # Parameters\n",
    "    n_features    = threshold_words*300\n",
    "    porc_data     =    0.2\n",
    "    n_epoch       =     30\n",
    "    n_train       =  40000\n",
    "    n_test        =  10000\n",
    "    \n",
    "    doc_stream = stream_docs(path='shuffled_movie_data.csv')\n",
    "    accuracy = list()\n",
    "    \n",
    "    # Train/test data\n",
    "    x_train, y_train = get_minibatch(doc_stream, size=n_train)\n",
    "    x_test , y_test  = get_minibatch(doc_stream, size=n_test )\n",
    "    \n",
    "    # Run epoch\n",
    "    for _ in range(n_epoch):\n",
    "    \n",
    "        \"\"\" Train one epoch \"\"\"\n",
    "        if verbose: pbar = pyprind.ProgBar(n_train*porc_data)\n",
    "        for __ in range(int(n_train*porc_data)):\n",
    "            # Random changing\n",
    "            n = round(random.uniform(0, n_train-1))\n",
    "\n",
    "            # Get features\n",
    "            x = featuresExtraction(preprocessing(x_train[n]))\n",
    "            x = np.append([1],x)   # add bias\n",
    "            y = y_train[n]\n",
    "\n",
    "            # Train\n",
    "            z = feedforward(w, x, hiddenFunc)\n",
    "            w = backpropagation(w, x, y, z,\n",
    "                                learning_rate, reg_lambda, \n",
    "                                hiddenFunc, outFunc)\n",
    "            # Update bar\n",
    "            if verbose: pbar.update()\n",
    "\n",
    "        \"\"\" Run test \"\"\"\n",
    "        acc = 0\n",
    "        if verbose: pbar = pyprind.ProgBar(n_test*porc_data)\n",
    "        for __ in range(int(n_test*porc_data)):\n",
    "            # Random changing\n",
    "            n = round(random.uniform(0, n_test-1))\n",
    "\n",
    "            # Get features\n",
    "            x = featuresExtraction(preprocessing(x_test[n]))\n",
    "\n",
    "            # Prediction\n",
    "            y_pred = predict(w,x, hiddenFunc, outFunc)\n",
    "            acc += int(y_pred == y_test[n])\n",
    "\n",
    "            # Update bar\n",
    "            if verbose: pbar.update()\n",
    "\n",
    "        acc = acc*100/(n_test*porc_data)\n",
    "        if verbose: print('\\n')\n",
    "        if verbose: print('\\nEpoch ',_+1,'\\tTest Accuracy: ',acc,'%')\n",
    "        accuracy.append(acc)\n",
    "        \n",
    "    return accuracy"
   ]
  },
  {
   "cell_type": "code",
   "execution_count": 27,
   "metadata": {},
   "outputs": [],
   "source": [
    "def addLayer(w,n_int,n_out):\n",
    "    w.append(initialize_he(n_int,n_out))"
   ]
  },
  {
   "cell_type": "markdown",
   "metadata": {},
   "source": [
    "## Tests"
   ]
  },
  {
   "cell_type": "markdown",
   "metadata": {},
   "source": [
    "### Test 1"
   ]
  },
  {
   "cell_type": "code",
   "execution_count": 51,
   "metadata": {},
   "outputs": [],
   "source": [
    "n_features = threshold_words*300\n",
    "\n",
    "# Parameters\n",
    "learning_rate =  0.01\n",
    "reg_lambda    =     0\n",
    "\n",
    "# Define layers\n",
    "w1 = list(); w2 = list(); w3 = list()\n",
    "\n",
    "addLayer(w1,n_features+1,5)\n",
    "addLayer(w1,5,3); addLayer(w1,3,1)\n",
    "\n",
    "addLayer(w2,n_features+1,5)\n",
    "addLayer(w2,5,5); addLayer(w2,5,1)\n",
    "\n",
    "addLayer(w3,n_features+1,10)\n",
    "addLayer(w3,10,30); addLayer(w3,30,1)\n",
    "\n",
    "# Train MLP\n",
    "acc1 = trainMLP(w1,learning_rate,reg_lambda,sigmoid,sigmoid)\n",
    "acc2 = trainMLP(w2,learning_rate,reg_lambda,sigmoid,sigmoid)\n",
    "acc3 = trainMLP(w3,learning_rate,reg_lambda,sigmoid,sigmoid)\n"
   ]
  },
  {
   "cell_type": "code",
   "execution_count": 52,
   "metadata": {},
   "outputs": [
    {
     "data": {
      "image/png": "[encoded data removed]",
      "text/plain": [
       "<Figure size 576x432 with 1 Axes>"
      ]
     },
     "metadata": {},
     "output_type": "display_data"
    }
   ],
   "source": [
    "import matplotlib.pyplot as plt\n",
    "from matplotlib.pyplot import figure\n",
    "figure( figsize=(8, 6) )\n",
    "\n",
    "epoch = list(range(1,31))\n",
    "plt.plot(epoch,acc1,label='Layers= 5 nets, 3 nets, 1 net')\n",
    "plt.plot(epoch,acc2,label='Layers= 5 nets, 5 nets, 1 net')\n",
    "plt.plot(epoch,acc3,label='Layers=10 nets,30 nets, 1 net')\n",
    "plt.xlabel('Epoch')\n",
    "plt.ylabel('Accuracy')\n",
    "plt.xlim([1,30])\n",
    "plt.ylim([45,85])\n",
    "plt.title('Activation function: Sigmoid')\n",
    "plt.legend(loc='lower right')\n",
    "plt.show()"
   ]
  },
  {
   "cell_type": "markdown",
   "metadata": {},
   "source": [
    "### Test 2"
   ]
  },
  {
   "cell_type": "code",
   "execution_count": 53,
   "metadata": {},
   "outputs": [],
   "source": [
    "# Parameters\n",
    "learning_rate =  0.01\n",
    "reg_lambda    =     0\n",
    "\n",
    "# Define layers\n",
    "w1 = list(); w2 = list(); w3 = list()\n",
    "\n",
    "addLayer(w1,n_features+1,5)\n",
    "addLayer(w1,5,3); addLayer(w1,3,1)\n",
    "\n",
    "addLayer(w2,n_features+1,5)\n",
    "addLayer(w2,5,5); addLayer(w2,5,1)\n",
    "\n",
    "# Train MLP\n",
    "acc1 = trainMLP(w1,learning_rate,reg_lambda,tanh,sigmoid)\n",
    "acc2 = trainMLP(w2,learning_rate,reg_lambda,tanh,sigmoid)\n"
   ]
  },
  {
   "cell_type": "code",
   "execution_count": 56,
   "metadata": {},
   "outputs": [
    {
     "data": {
      "image/png": "[encoded data removed]",
      "text/plain": [
       "<Figure size 576x432 with 1 Axes>"
      ]
     },
     "metadata": {},
     "output_type": "display_data"
    }
   ],
   "source": [
    "figure( figsize=(8, 6) )\n",
    "plt.plot(epoch,acc1,label='Layers=5 nets,3 nets,1 net')\n",
    "plt.plot(epoch,acc2,label='Layers=5 nets,5 nets,1 net')\n",
    "plt.xlabel('Epoch')\n",
    "plt.ylabel('Accuracy')\n",
    "plt.xlim([1,30])\n",
    "plt.ylim([45,85])\n",
    "plt.title('Activation function: tanh')\n",
    "plt.legend(loc='lower right')\n",
    "plt.show()"
   ]
  },
  {
   "cell_type": "code",
   "execution_count": null,
   "metadata": {},
   "outputs": [],
   "source": []
  },
  {
   "cell_type": "code",
   "execution_count": null,
   "metadata": {},
   "outputs": [],
   "source": []
  }
 ],
 "metadata": {
  "kernelspec": {
   "display_name": "Python 3",
   "language": "python",
   "name": "python3"
  },
  "language_info": {
   "codemirror_mode": {
    "name": "ipython",
    "version": 3
   },
   "file_extension": ".py",
   "mimetype": "text/x-python",
   "name": "python",
   "nbconvert_exporter": "python",
   "pygments_lexer": "ipython3",
   "version": "3.6.6"
  }
 },
 "nbformat": 4,
 "nbformat_minor": 2
}
